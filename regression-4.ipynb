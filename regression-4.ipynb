{
 "cells": [
  {
   "cell_type": "code",
   "execution_count": 1,
   "id": "1f72c7fb",
   "metadata": {},
   "outputs": [],
   "source": [
    "import numpy as np\n",
    "import pandas as pd\n",
    "import seaborn as sns\n",
    "import statsmodels.api as sm\n",
    "import statsmodels.formula.api as smf\n",
    "import matplotlib.pyplot as plt\n",
    "from scipy import stats\n",
    "from sklearn import preprocessing\n",
    "from sklearn import metrics\n",
    "from sklearn.model_selection import train_test_split\n",
    "from sklearn.linear_model import LogisticRegression, LinearRegression\n",
    "from sklearn.pipeline import make_pipeline\n",
    "from IPython.display import display\n",
    "pd.options.display.max_columns = None"
   ]
  },
  {
   "cell_type": "markdown",
   "id": "d7fbb69d",
   "metadata": {},
   "source": [
    "# Regression - Classification\n",
    "\n",
    "## Exercise 1: Titanic, but correctly this time!\n",
    "\n",
    "Take your linear regression model from the previous workshop on the titanic dataset.\n",
    "\n",
    "Swap OLS for logistic regresssion and compare the classification model metrics (accuracy, ROC plot, F1, precision/recall).\n",
    "\n",
    "How much better is logistic regression than OLS on binary data?"
   ]
  },
  {
   "cell_type": "code",
   "execution_count": 2,
   "id": "cd2bec5d",
   "metadata": {},
   "outputs": [],
   "source": [
    "# exercise 1"
   ]
  },
  {
   "cell_type": "code",
   "execution_count": 3,
   "id": "6f189d65",
   "metadata": {},
   "outputs": [],
   "source": [
    "# prep the data\n",
    "titanic = sns.load_dataset('titanic')\n",
    "\n",
    "# rename annoying class column\n",
    "titanic.rename(columns={'class': 'Class'}, inplace=True)\n",
    "\n",
    "# change types\n",
    "titanic.Class = titanic.Class.astype(object)\n",
    "titanic.deck = titanic.deck.astype(object)\n",
    "titanic.alone = titanic.alone.astype(int)\n",
    "titanic.adult_male = titanic.adult_male.astype(int)\n",
    "\n",
    "# fill nan values in age \n",
    "age_list = titanic.age.dropna()\n",
    "for row in range(len(titanic.age)): # fill age nan with random age choices\n",
    "    if titanic.age.isna()[row]:\n",
    "        titanic.loc[row, 'age'] = np.random.choice(age_list)\n",
    "\n",
    "# fill nan for embarked \n",
    "titanic.embarked.fillna(method='bfill', inplace=True)\n",
    "\n",
    "# fill nan in deck\n",
    "titanic.deck = titanic.deck.fillna('Unk')\n",
    "\n",
    "# make bins for deck\n",
    "titanic['deck_bin'] = titanic.deck.map(lambda x: 'ABC' if x in ['A','B','C'] else('DE' if x in ['D','E'] else ('FG' if x in ['F','G'] else 'Unk')))\n",
    "\n",
    "# make bins for fare to test and see if they are meaningful\n",
    "titanic['fare_bin'] = titanic.fare.map(lambda x: 1 if x <= 25 else(3 if x >= 125 else 2))\n",
    "\n",
    "# make family size column\n",
    "titanic['family_size'] = titanic.sibsp + titanic.parch + 1\n",
    "\n",
    "X = titanic.drop(['survived'], axis=1)\n",
    "y = titanic.survived"
   ]
  },
  {
   "cell_type": "code",
   "execution_count": 4,
   "id": "c3b4b2c1",
   "metadata": {},
   "outputs": [],
   "source": [
    "# testing the same formula that I used for the regularized regression in previous exercise\n",
    "\n",
    "formula = 'survived ~ Class + who + C(fare_bin) + embarked + deck_bin + family_size + adult_male'\n",
    "\n",
    "# split for testing then make combined train and test\n",
    "X_train, X_test, y_train, y_test = train_test_split(X, y, test_size=0.3, random_state=13)\n",
    "train_data = pd.concat([X_train, y_train], axis=1)\n",
    "test_data = pd.concat([X_test, y_test], axis=1)"
   ]
  },
  {
   "cell_type": "code",
   "execution_count": 5,
   "id": "8e383bac",
   "metadata": {
    "scrolled": true
   },
   "outputs": [
    {
     "data": {
      "text/html": [
       "<table class=\"simpletable\">\n",
       "<caption>OLS Regression Results</caption>\n",
       "<tr>\n",
       "  <th>Dep. Variable:</th>        <td>survived</td>     <th>  R-squared:         </th> <td>   0.444</td>\n",
       "</tr>\n",
       "<tr>\n",
       "  <th>Model:</th>                   <td>OLS</td>       <th>  Adj. R-squared:    </th> <td>   0.433</td>\n",
       "</tr>\n",
       "<tr>\n",
       "  <th>Method:</th>             <td>Least Squares</td>  <th>  F-statistic:       </th> <td>   40.63</td>\n",
       "</tr>\n",
       "<tr>\n",
       "  <th>Date:</th>             <td>Fri, 03 Mar 2023</td> <th>  Prob (F-statistic):</th> <td>6.42e-70</td>\n",
       "</tr>\n",
       "<tr>\n",
       "  <th>Time:</th>                 <td>12:34:44</td>     <th>  Log-Likelihood:    </th> <td> -254.67</td>\n",
       "</tr>\n",
       "<tr>\n",
       "  <th>No. Observations:</th>      <td>   623</td>      <th>  AIC:               </th> <td>   535.3</td>\n",
       "</tr>\n",
       "<tr>\n",
       "  <th>Df Residuals:</th>          <td>   610</td>      <th>  BIC:               </th> <td>   593.0</td>\n",
       "</tr>\n",
       "<tr>\n",
       "  <th>Df Model:</th>              <td>    12</td>      <th>                     </th>     <td> </td>   \n",
       "</tr>\n",
       "<tr>\n",
       "  <th>Covariance Type:</th>      <td>nonrobust</td>    <th>                     </th>     <td> </td>   \n",
       "</tr>\n",
       "</table>\n",
       "<table class=\"simpletable\">\n",
       "<tr>\n",
       "          <td></td>            <th>coef</th>     <th>std err</th>      <th>t</th>      <th>P>|t|</th>  <th>[0.025</th>    <th>0.975]</th>  \n",
       "</tr>\n",
       "<tr>\n",
       "  <th>Intercept</th>        <td>    1.0701</td> <td>    0.089</td> <td>   11.967</td> <td> 0.000</td> <td>    0.894</td> <td>    1.246</td>\n",
       "</tr>\n",
       "<tr>\n",
       "  <th>Class[T.Second]</th>  <td>   -0.0133</td> <td>    0.078</td> <td>   -0.171</td> <td> 0.864</td> <td>   -0.166</td> <td>    0.139</td>\n",
       "</tr>\n",
       "<tr>\n",
       "  <th>Class[T.Third]</th>   <td>   -0.1432</td> <td>    0.084</td> <td>   -1.704</td> <td> 0.089</td> <td>   -0.308</td> <td>    0.022</td>\n",
       "</tr>\n",
       "<tr>\n",
       "  <th>who[T.man]</th>       <td>   -0.2979</td> <td>    0.029</td> <td>  -10.112</td> <td> 0.000</td> <td>   -0.356</td> <td>   -0.240</td>\n",
       "</tr>\n",
       "<tr>\n",
       "  <th>who[T.woman]</th>     <td>   -0.0095</td> <td>    0.060</td> <td>   -0.158</td> <td> 0.874</td> <td>   -0.127</td> <td>    0.108</td>\n",
       "</tr>\n",
       "<tr>\n",
       "  <th>C(fare_bin)[T.2]</th> <td>    0.0236</td> <td>    0.055</td> <td>    0.428</td> <td> 0.669</td> <td>   -0.085</td> <td>    0.132</td>\n",
       "</tr>\n",
       "<tr>\n",
       "  <th>C(fare_bin)[T.3]</th> <td>    0.0959</td> <td>    0.097</td> <td>    0.989</td> <td> 0.323</td> <td>   -0.094</td> <td>    0.286</td>\n",
       "</tr>\n",
       "<tr>\n",
       "  <th>embarked[T.Q]</th>    <td>    0.0026</td> <td>    0.064</td> <td>    0.041</td> <td> 0.967</td> <td>   -0.123</td> <td>    0.129</td>\n",
       "</tr>\n",
       "<tr>\n",
       "  <th>embarked[T.S]</th>    <td>   -0.0836</td> <td>    0.040</td> <td>   -2.114</td> <td> 0.035</td> <td>   -0.161</td> <td>   -0.006</td>\n",
       "</tr>\n",
       "<tr>\n",
       "  <th>deck_bin[T.DE]</th>   <td>    0.1067</td> <td>    0.069</td> <td>    1.553</td> <td> 0.121</td> <td>   -0.028</td> <td>    0.242</td>\n",
       "</tr>\n",
       "<tr>\n",
       "  <th>deck_bin[T.FG]</th>   <td>    0.0099</td> <td>    0.129</td> <td>    0.076</td> <td> 0.939</td> <td>   -0.244</td> <td>    0.264</td>\n",
       "</tr>\n",
       "<tr>\n",
       "  <th>deck_bin[T.Unk]</th>  <td>   -0.1101</td> <td>    0.071</td> <td>   -1.552</td> <td> 0.121</td> <td>   -0.249</td> <td>    0.029</td>\n",
       "</tr>\n",
       "<tr>\n",
       "  <th>family_size</th>      <td>   -0.0584</td> <td>    0.012</td> <td>   -4.767</td> <td> 0.000</td> <td>   -0.082</td> <td>   -0.034</td>\n",
       "</tr>\n",
       "<tr>\n",
       "  <th>adult_male</th>       <td>   -0.2979</td> <td>    0.029</td> <td>  -10.112</td> <td> 0.000</td> <td>   -0.356</td> <td>   -0.240</td>\n",
       "</tr>\n",
       "</table>\n",
       "<table class=\"simpletable\">\n",
       "<tr>\n",
       "  <th>Omnibus:</th>       <td>34.014</td> <th>  Durbin-Watson:     </th> <td>   2.080</td>\n",
       "</tr>\n",
       "<tr>\n",
       "  <th>Prob(Omnibus):</th> <td> 0.000</td> <th>  Jarque-Bera (JB):  </th> <td>  38.272</td>\n",
       "</tr>\n",
       "<tr>\n",
       "  <th>Skew:</th>          <td> 0.572</td> <th>  Prob(JB):          </th> <td>4.89e-09</td>\n",
       "</tr>\n",
       "<tr>\n",
       "  <th>Kurtosis:</th>      <td> 3.406</td> <th>  Cond. No.          </th> <td>9.08e+15</td>\n",
       "</tr>\n",
       "</table><br/><br/>Notes:<br/>[1] Standard Errors assume that the covariance matrix of the errors is correctly specified.<br/>[2] The smallest eigenvalue is 6.46e-29. This might indicate that there are<br/>strong multicollinearity problems or that the design matrix is singular."
      ],
      "text/plain": [
       "<class 'statsmodels.iolib.summary.Summary'>\n",
       "\"\"\"\n",
       "                            OLS Regression Results                            \n",
       "==============================================================================\n",
       "Dep. Variable:               survived   R-squared:                       0.444\n",
       "Model:                            OLS   Adj. R-squared:                  0.433\n",
       "Method:                 Least Squares   F-statistic:                     40.63\n",
       "Date:                Fri, 03 Mar 2023   Prob (F-statistic):           6.42e-70\n",
       "Time:                        12:34:44   Log-Likelihood:                -254.67\n",
       "No. Observations:                 623   AIC:                             535.3\n",
       "Df Residuals:                     610   BIC:                             593.0\n",
       "Df Model:                          12                                         \n",
       "Covariance Type:            nonrobust                                         \n",
       "====================================================================================\n",
       "                       coef    std err          t      P>|t|      [0.025      0.975]\n",
       "------------------------------------------------------------------------------------\n",
       "Intercept            1.0701      0.089     11.967      0.000       0.894       1.246\n",
       "Class[T.Second]     -0.0133      0.078     -0.171      0.864      -0.166       0.139\n",
       "Class[T.Third]      -0.1432      0.084     -1.704      0.089      -0.308       0.022\n",
       "who[T.man]          -0.2979      0.029    -10.112      0.000      -0.356      -0.240\n",
       "who[T.woman]        -0.0095      0.060     -0.158      0.874      -0.127       0.108\n",
       "C(fare_bin)[T.2]     0.0236      0.055      0.428      0.669      -0.085       0.132\n",
       "C(fare_bin)[T.3]     0.0959      0.097      0.989      0.323      -0.094       0.286\n",
       "embarked[T.Q]        0.0026      0.064      0.041      0.967      -0.123       0.129\n",
       "embarked[T.S]       -0.0836      0.040     -2.114      0.035      -0.161      -0.006\n",
       "deck_bin[T.DE]       0.1067      0.069      1.553      0.121      -0.028       0.242\n",
       "deck_bin[T.FG]       0.0099      0.129      0.076      0.939      -0.244       0.264\n",
       "deck_bin[T.Unk]     -0.1101      0.071     -1.552      0.121      -0.249       0.029\n",
       "family_size         -0.0584      0.012     -4.767      0.000      -0.082      -0.034\n",
       "adult_male          -0.2979      0.029    -10.112      0.000      -0.356      -0.240\n",
       "==============================================================================\n",
       "Omnibus:                       34.014   Durbin-Watson:                   2.080\n",
       "Prob(Omnibus):                  0.000   Jarque-Bera (JB):               38.272\n",
       "Skew:                           0.572   Prob(JB):                     4.89e-09\n",
       "Kurtosis:                       3.406   Cond. No.                     9.08e+15\n",
       "==============================================================================\n",
       "\n",
       "Notes:\n",
       "[1] Standard Errors assume that the covariance matrix of the errors is correctly specified.\n",
       "[2] The smallest eigenvalue is 6.46e-29. This might indicate that there are\n",
       "strong multicollinearity problems or that the design matrix is singular.\n",
       "\"\"\""
      ]
     },
     "execution_count": 5,
     "metadata": {},
     "output_type": "execute_result"
    }
   ],
   "source": [
    "# linear regression summary\n",
    "\n",
    "ols_mod = smf.ols(formula=formula, data=train_data).fit()\n",
    "ols_mod.summary()"
   ]
  },
  {
   "cell_type": "code",
   "execution_count": 6,
   "id": "b3e90571",
   "metadata": {},
   "outputs": [
    {
     "name": "stdout",
     "output_type": "stream",
     "text": [
      "Optimization terminated successfully.\n",
      "         Current function value: 0.409517\n",
      "         Iterations 7\n"
     ]
    },
    {
     "data": {
      "text/html": [
       "<table class=\"simpletable\">\n",
       "<caption>Logit Regression Results</caption>\n",
       "<tr>\n",
       "  <th>Dep. Variable:</th>       <td>survived</td>     <th>  No. Observations:  </th>  <td>   623</td>  \n",
       "</tr>\n",
       "<tr>\n",
       "  <th>Model:</th>                 <td>Logit</td>      <th>  Df Residuals:      </th>  <td>   610</td>  \n",
       "</tr>\n",
       "<tr>\n",
       "  <th>Method:</th>                 <td>MLE</td>       <th>  Df Model:          </th>  <td>    12</td>  \n",
       "</tr>\n",
       "<tr>\n",
       "  <th>Date:</th>            <td>Fri, 03 Mar 2023</td> <th>  Pseudo R-squ.:     </th>  <td>0.3889</td>  \n",
       "</tr>\n",
       "<tr>\n",
       "  <th>Time:</th>                <td>12:34:44</td>     <th>  Log-Likelihood:    </th> <td> -255.13</td> \n",
       "</tr>\n",
       "<tr>\n",
       "  <th>converged:</th>             <td>True</td>       <th>  LL-Null:           </th> <td> -417.52</td> \n",
       "</tr>\n",
       "<tr>\n",
       "  <th>Covariance Type:</th>     <td>nonrobust</td>    <th>  LLR p-value:       </th> <td>2.884e-62</td>\n",
       "</tr>\n",
       "</table>\n",
       "<table class=\"simpletable\">\n",
       "<tr>\n",
       "          <td></td>            <th>coef</th>     <th>std err</th>      <th>z</th>      <th>P>|z|</th>  <th>[0.025</th>    <th>0.975]</th>  \n",
       "</tr>\n",
       "<tr>\n",
       "  <th>Intercept</th>        <td>    3.9325</td> <td>    0.679</td> <td>    5.789</td> <td> 0.000</td> <td>    2.601</td> <td>    5.264</td>\n",
       "</tr>\n",
       "<tr>\n",
       "  <th>Class[T.Second]</th>  <td>    0.0087</td> <td>    0.570</td> <td>    0.015</td> <td> 0.988</td> <td>   -1.109</td> <td>    1.126</td>\n",
       "</tr>\n",
       "<tr>\n",
       "  <th>Class[T.Third]</th>   <td>   -0.9105</td> <td>    0.617</td> <td>   -1.476</td> <td> 0.140</td> <td>   -2.120</td> <td>    0.299</td>\n",
       "</tr>\n",
       "<tr>\n",
       "  <th>who[T.man]</th>       <td>   -1.8481</td> <td> 2.19e+07</td> <td>-8.43e-08</td> <td> 1.000</td> <td> -4.3e+07</td> <td>  4.3e+07</td>\n",
       "</tr>\n",
       "<tr>\n",
       "  <th>who[T.woman]</th>     <td>   -0.2991</td> <td>    0.423</td> <td>   -0.707</td> <td> 0.480</td> <td>   -1.129</td> <td>    0.530</td>\n",
       "</tr>\n",
       "<tr>\n",
       "  <th>C(fare_bin)[T.2]</th> <td>    0.2716</td> <td>    0.399</td> <td>    0.680</td> <td> 0.496</td> <td>   -0.511</td> <td>    1.054</td>\n",
       "</tr>\n",
       "<tr>\n",
       "  <th>C(fare_bin)[T.3]</th> <td>    0.8704</td> <td>    0.745</td> <td>    1.169</td> <td> 0.242</td> <td>   -0.589</td> <td>    2.330</td>\n",
       "</tr>\n",
       "<tr>\n",
       "  <th>embarked[T.Q]</th>    <td>   -0.0120</td> <td>    0.471</td> <td>   -0.026</td> <td> 0.980</td> <td>   -0.935</td> <td>    0.911</td>\n",
       "</tr>\n",
       "<tr>\n",
       "  <th>embarked[T.S]</th>    <td>   -0.6305</td> <td>    0.293</td> <td>   -2.149</td> <td> 0.032</td> <td>   -1.206</td> <td>   -0.055</td>\n",
       "</tr>\n",
       "<tr>\n",
       "  <th>deck_bin[T.DE]</th>   <td>    0.8093</td> <td>    0.496</td> <td>    1.632</td> <td> 0.103</td> <td>   -0.163</td> <td>    1.781</td>\n",
       "</tr>\n",
       "<tr>\n",
       "  <th>deck_bin[T.FG]</th>   <td>   -0.1121</td> <td>    0.951</td> <td>   -0.118</td> <td> 0.906</td> <td>   -1.977</td> <td>    1.752</td>\n",
       "</tr>\n",
       "<tr>\n",
       "  <th>deck_bin[T.Unk]</th>  <td>   -0.7392</td> <td>    0.509</td> <td>   -1.451</td> <td> 0.147</td> <td>   -1.737</td> <td>    0.259</td>\n",
       "</tr>\n",
       "<tr>\n",
       "  <th>family_size</th>      <td>   -0.4749</td> <td>    0.112</td> <td>   -4.250</td> <td> 0.000</td> <td>   -0.694</td> <td>   -0.256</td>\n",
       "</tr>\n",
       "<tr>\n",
       "  <th>adult_male</th>       <td>   -1.8481</td> <td> 2.19e+07</td> <td>-8.43e-08</td> <td> 1.000</td> <td> -4.3e+07</td> <td>  4.3e+07</td>\n",
       "</tr>\n",
       "</table>"
      ],
      "text/plain": [
       "<class 'statsmodels.iolib.summary.Summary'>\n",
       "\"\"\"\n",
       "                           Logit Regression Results                           \n",
       "==============================================================================\n",
       "Dep. Variable:               survived   No. Observations:                  623\n",
       "Model:                          Logit   Df Residuals:                      610\n",
       "Method:                           MLE   Df Model:                           12\n",
       "Date:                Fri, 03 Mar 2023   Pseudo R-squ.:                  0.3889\n",
       "Time:                        12:34:44   Log-Likelihood:                -255.13\n",
       "converged:                       True   LL-Null:                       -417.52\n",
       "Covariance Type:            nonrobust   LLR p-value:                 2.884e-62\n",
       "====================================================================================\n",
       "                       coef    std err          z      P>|z|      [0.025      0.975]\n",
       "------------------------------------------------------------------------------------\n",
       "Intercept            3.9325      0.679      5.789      0.000       2.601       5.264\n",
       "Class[T.Second]      0.0087      0.570      0.015      0.988      -1.109       1.126\n",
       "Class[T.Third]      -0.9105      0.617     -1.476      0.140      -2.120       0.299\n",
       "who[T.man]          -1.8481   2.19e+07  -8.43e-08      1.000    -4.3e+07     4.3e+07\n",
       "who[T.woman]        -0.2991      0.423     -0.707      0.480      -1.129       0.530\n",
       "C(fare_bin)[T.2]     0.2716      0.399      0.680      0.496      -0.511       1.054\n",
       "C(fare_bin)[T.3]     0.8704      0.745      1.169      0.242      -0.589       2.330\n",
       "embarked[T.Q]       -0.0120      0.471     -0.026      0.980      -0.935       0.911\n",
       "embarked[T.S]       -0.6305      0.293     -2.149      0.032      -1.206      -0.055\n",
       "deck_bin[T.DE]       0.8093      0.496      1.632      0.103      -0.163       1.781\n",
       "deck_bin[T.FG]      -0.1121      0.951     -0.118      0.906      -1.977       1.752\n",
       "deck_bin[T.Unk]     -0.7392      0.509     -1.451      0.147      -1.737       0.259\n",
       "family_size         -0.4749      0.112     -4.250      0.000      -0.694      -0.256\n",
       "adult_male          -1.8481   2.19e+07  -8.43e-08      1.000    -4.3e+07     4.3e+07\n",
       "====================================================================================\n",
       "\"\"\""
      ]
     },
     "execution_count": 6,
     "metadata": {},
     "output_type": "execute_result"
    }
   ],
   "source": [
    "# logistic regression summary\n",
    "\n",
    "log_mod = smf.logit(formula=formula, data=train_data).fit()\n",
    "log_mod.summary()"
   ]
  },
  {
   "cell_type": "code",
   "execution_count": 7,
   "id": "37995175",
   "metadata": {},
   "outputs": [
    {
     "data": {
      "text/plain": [
       "0.8097014925373134"
      ]
     },
     "execution_count": 7,
     "metadata": {},
     "output_type": "execute_result"
    }
   ],
   "source": [
    "# linear regression accuracy value\n",
    "\n",
    "pred_ols = ols_mod.predict(test_data)\n",
    "\n",
    "cutoff = 0.5\n",
    "y_pred_ols = np.where(pred_ols > cutoff, 1, 0)\n",
    "\n",
    "accuracy = metrics.accuracy_score(y_test, y_pred_ols)\n",
    "accuracy"
   ]
  },
  {
   "cell_type": "code",
   "execution_count": 8,
   "id": "4705ac02",
   "metadata": {},
   "outputs": [
    {
     "data": {
      "text/plain": [
       "0.8208955223880597"
      ]
     },
     "execution_count": 8,
     "metadata": {},
     "output_type": "execute_result"
    }
   ],
   "source": [
    "# logistic regression accuracy value\n",
    "\n",
    "pred_log = log_mod.predict(test_data)\n",
    "\n",
    "cutoff = 0.5\n",
    "y_pred_log = np.where(pred_log > cutoff, 1, 0)\n",
    "\n",
    "accuracy = metrics.accuracy_score(y_test, y_pred_log)\n",
    "accuracy"
   ]
  },
  {
   "cell_type": "code",
   "execution_count": 9,
   "id": "ce73c888",
   "metadata": {},
   "outputs": [
    {
     "name": "stdout",
     "output_type": "stream",
     "text": [
      "              precision    recall  f1-score   support\n",
      "\n",
      "           0       0.85      0.85      0.85       171\n",
      "           1       0.73      0.74      0.74        97\n",
      "\n",
      "    accuracy                           0.81       268\n",
      "   macro avg       0.79      0.80      0.79       268\n",
      "weighted avg       0.81      0.81      0.81       268\n",
      "\n"
     ]
    }
   ],
   "source": [
    "# linear regression classification report\n",
    "\n",
    "print(metrics.classification_report(y_test, y_pred_ols))"
   ]
  },
  {
   "cell_type": "code",
   "execution_count": 10,
   "id": "45ec33be",
   "metadata": {
    "scrolled": true
   },
   "outputs": [
    {
     "name": "stdout",
     "output_type": "stream",
     "text": [
      "              precision    recall  f1-score   support\n",
      "\n",
      "           0       0.87      0.85      0.86       171\n",
      "           1       0.74      0.77      0.76        97\n",
      "\n",
      "    accuracy                           0.82       268\n",
      "   macro avg       0.81      0.81      0.81       268\n",
      "weighted avg       0.82      0.82      0.82       268\n",
      "\n"
     ]
    }
   ],
   "source": [
    "# logistic regression classification report\n",
    "\n",
    "print(metrics.classification_report(y_test, y_pred_log))"
   ]
  },
  {
   "cell_type": "code",
   "execution_count": 11,
   "id": "fcd9f0ca",
   "metadata": {
    "scrolled": false
   },
   "outputs": [
    {
     "data": {
      "image/png": "[encoded data removed]",
      "text/plain": [
       "<Figure size 400x200 with 2 Axes>"
      ]
     },
     "metadata": {},
     "output_type": "display_data"
    }
   ],
   "source": [
    "fig = plt.figure(figsize=(4,2))\n",
    "ax1 = fig.add_subplot(121)\n",
    "ax2 = fig.add_subplot(122)\n",
    "fig.tight_layout(pad=2)\n",
    "\n",
    "sns.heatmap(metrics.confusion_matrix(y_test, y_pred_ols), cmap='viridis', annot=True, fmt=\"d\", ax=ax1, cbar=False)\n",
    "ax1.set_xlabel('Predicted label')\n",
    "ax1.set_ylabel('True label')\n",
    "ax1.set_title('OLS Matrix')\n",
    "sns.heatmap(metrics.confusion_matrix(y_test, y_pred_log), cmap='viridis', annot=True, fmt=\"d\", ax=ax2, cbar=False)\n",
    "ax2.set_xlabel('Predicted label')\n",
    "ax2.set_ylabel('True label')\n",
    "ax2.set_title('Logistic Matrix')\n",
    "\n",
    "plt.show()\n",
    "\n",
    "# confusion matrix for quick comparison"
   ]
  },
  {
   "cell_type": "code",
   "execution_count": 12,
   "id": "00d8d5cd",
   "metadata": {},
   "outputs": [],
   "source": [
    "# the difference between models is not huge but logistic regression is better by a percentage point or two.\n",
    "# linear regression did the worst for determining who survived whereas logistic regression performed better\n",
    "# by correctly classifying 3 more survivors"
   ]
  },
  {
   "cell_type": "code",
   "execution_count": 13,
   "id": "1491f238",
   "metadata": {},
   "outputs": [],
   "source": [
    "# just out of curiosity, running the regularized model as well\n",
    "# this is the worst performing of them all\n",
    "\n",
    "model_r = smf.ols(formula=formula, data=train_data).fit_regularized(method='elastic_net', alpha=0.01)"
   ]
  },
  {
   "cell_type": "code",
   "execution_count": 14,
   "id": "c3d9d3bf",
   "metadata": {},
   "outputs": [
    {
     "data": {
      "text/plain": [
       "0.7985074626865671"
      ]
     },
     "execution_count": 14,
     "metadata": {},
     "output_type": "execute_result"
    }
   ],
   "source": [
    "pred_reg = model_r.predict(test_data)\n",
    "\n",
    "cutoff = 0.5\n",
    "y_pred_reg = np.where(pred_reg > cutoff, 1, 0)\n",
    "\n",
    "accuracy = metrics.accuracy_score(y_test, y_pred_reg)\n",
    "accuracy"
   ]
  },
  {
   "cell_type": "code",
   "execution_count": 15,
   "id": "6f47342a",
   "metadata": {},
   "outputs": [
    {
     "name": "stdout",
     "output_type": "stream",
     "text": [
      "              precision    recall  f1-score   support\n",
      "\n",
      "           0       0.83      0.85      0.84       171\n",
      "           1       0.73      0.70      0.72        97\n",
      "\n",
      "    accuracy                           0.80       268\n",
      "   macro avg       0.78      0.78      0.78       268\n",
      "weighted avg       0.80      0.80      0.80       268\n",
      "\n"
     ]
    }
   ],
   "source": [
    "print(metrics.classification_report(y_test, y_pred_reg))"
   ]
  },
  {
   "cell_type": "markdown",
   "id": "047a6fec",
   "metadata": {},
   "source": [
    "## Exercise 2: Intro To Computer Vision\n",
    "\n",
    "The [MNIST dataset](https://en.wikipedia.org/wiki/MNIST_database) is a classic in computer vision. It's a database of manually written digits (from 0 to 9) scanned into a 28x28 pixel image.\n",
    "\n",
    "The `X` matrix is 784 numbers (28x28) with numbers saying how dark the pixel is. The `y` variable is the number. The task is to use the images to do optical recognition.\n",
    "\n",
    "You can fetch the dataset with the following command:\n",
    "\n",
    "```\n",
    "from sklearn.datasets import fetch_openml\n",
    "fetch_openml('mnist_784', version=1, return_X_y=True, as_frame=False)\n",
    "```\n",
    "\n",
    "Use sklearn's logistic regression and any of the tricks you want to boost predictive accuracy. Here's a few notes:\n",
    "\n",
    "- Use the sklearn `train_test_split` we saw in class to keep some holdout data to test on.\n",
    "- You can use whatever sklearn preprocessing you think is relevant. Here's a few: \n",
    "\n",
    "```\n",
    "from sklearn.preprocessing import StandardScaler\n",
    "from sklearn.preprocessing import PolynomialFeatures\n",
    "```\n",
    "\n",
    "- Since there's many features (especially if you use data augmentation like polynomial features), this is a good time to use regularization. Try to find the best regularization parameters possible.\n",
    "- You should be able to get at least 80% on a test set size of 10_000"
   ]
  },
  {
   "cell_type": "code",
   "execution_count": 16,
   "id": "375f52cc",
   "metadata": {},
   "outputs": [],
   "source": [
    "# exercise 2\n",
    "\n",
    "from sklearn.datasets import fetch_openml\n",
    "data = fetch_openml('mnist_784', version=1, return_X_y=True, as_frame=False)"
   ]
  },
  {
   "cell_type": "code",
   "execution_count": 17,
   "id": "27098e66",
   "metadata": {
    "scrolled": true
   },
   "outputs": [],
   "source": [
    "X_ = data[0]\n",
    "y_ = data[1]\n",
    "X_train2, X_test2, y_train2, y_test2 = train_test_split(X_, y_, test_size=10000, random_state=13)"
   ]
  },
  {
   "cell_type": "code",
   "execution_count": 18,
   "id": "8d4b5242",
   "metadata": {},
   "outputs": [],
   "source": [
    "# poly = PolynomialFeatures(degree=2, include_bias=False)\n",
    "# X_poly = poly.fit_transform(X_train2[:20])\n",
    "\n",
    "# polynomial features is too big, it's not a good option for my laptop even if it were done in batches"
   ]
  },
  {
   "cell_type": "code",
   "execution_count": 19,
   "id": "a8bb05ca",
   "metadata": {},
   "outputs": [],
   "source": [
    "pipeline = make_pipeline(StandardScaler(), LogisticRegression(max_iter=1000))\n",
    "\n",
    "# this is the most I was able to get to work, l2 penalty is default so regularization is included"
   ]
  },
  {
   "cell_type": "code",
   "execution_count": 20,
   "id": "2c8cde39",
   "metadata": {},
   "outputs": [],
   "source": [
    "model = pipeline.fit(X_train2, y_train2)\n",
    "\n",
    "# this already took a long time to run, not sure how to do anything more complicated"
   ]
  },
  {
   "cell_type": "code",
   "execution_count": 21,
   "id": "92eb1d7c",
   "metadata": {},
   "outputs": [],
   "source": [
    "# prediction time\n",
    "\n",
    "y_pred2 = model.predict(X_test2)"
   ]
  },
  {
   "cell_type": "code",
   "execution_count": 22,
   "id": "651dd9f8",
   "metadata": {},
   "outputs": [
    {
     "name": "stdout",
     "output_type": "stream",
     "text": [
      "              precision    recall  f1-score   support\n",
      "\n",
      "           0       0.94      0.96      0.95       999\n",
      "           1       0.95      0.97      0.96      1142\n",
      "           2       0.91      0.87      0.89       983\n",
      "           3       0.89      0.89      0.89       983\n",
      "           4       0.92      0.93      0.93       990\n",
      "           5       0.88      0.87      0.87       929\n",
      "           6       0.94      0.95      0.95      1014\n",
      "           7       0.92      0.92      0.92      1044\n",
      "           8       0.87      0.86      0.86       942\n",
      "           9       0.90      0.89      0.89       974\n",
      "\n",
      "    accuracy                           0.91     10000\n",
      "   macro avg       0.91      0.91      0.91     10000\n",
      "weighted avg       0.91      0.91      0.91     10000\n",
      "\n"
     ]
    }
   ],
   "source": [
    "print(metrics.classification_report(y_test2, y_pred2))\n",
    "\n",
    "# all precision and recall values are greater than 80% so this is acceptable\n",
    "# 5 and 8 had the lowest f1 scores by a couple percentage points\n",
    "# so that would be an area to look for improvements to the model"
   ]
  },
  {
   "cell_type": "code",
   "execution_count": 23,
   "id": "1434d320",
   "metadata": {},
   "outputs": [
    {
     "data": {
      "image/png": "[encoded data removed]",
      "text/plain": [
       "<Figure size 640x480 with 2 Axes>"
      ]
     },
     "metadata": {},
     "output_type": "display_data"
    }
   ],
   "source": [
    "sns.heatmap(metrics.confusion_matrix(y_test2, y_pred2), cmap='viridis', vmax=50, annot=True, fmt=\"d\")\n",
    "plt.xlabel('Predicted label')\n",
    "plt.ylabel('True label')\n",
    "plt.title('Confusion Matrix')\n",
    "\n",
    "plt.show()\n",
    "\n",
    "# this is an easier way to see where there were misclassifications\n",
    "# the most common misclassification is 8 as 5, which makes sense\n",
    "# 7 and 9 were the next most commonly misclassified"
   ]
  }
 ],
 "metadata": {
  "kernelspec": {
   "display_name": "Python 3 (ipykernel)",
   "language": "python",
   "name": "python3"
  },
  "language_info": {
   "codemirror_mode": {
    "name": "ipython",
    "version": 3
   },
   "file_extension": ".py",
   "mimetype": "text/x-python",
   "name": "python",
   "nbconvert_exporter": "python",
   "pygments_lexer": "ipython3",
   "version": "3.9.13"
  }
 },
 "nbformat": 4,
 "nbformat_minor": 5
}
