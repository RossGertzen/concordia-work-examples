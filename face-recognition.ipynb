{
 "cells": [
  {
   "cell_type": "code",
   "execution_count": 1,
   "metadata": {},
   "outputs": [],
   "source": [
    "import time\n",
    "import numpy as np\n",
    "import pandas as pd\n",
    "import seaborn as sns\n",
    "import matplotlib.pyplot as plt\n",
    "from scipy import stats\n",
    "from sklearn import metrics\n",
    "from sklearn.datasets import make_classification\n",
    "from sklearn.preprocessing import StandardScaler, MinMaxScaler, MaxAbsScaler, Normalizer, PowerTransformer\n",
    "from sklearn.decomposition import PCA\n",
    "from sklearn.pipeline import make_pipeline, Pipeline\n",
    "from sklearn.model_selection import train_test_split, RandomizedSearchCV, GridSearchCV\n",
    "from sklearn.svm import LinearSVC, SVC\n",
    "from sklearn.feature_selection import SelectPercentile\n",
    "from sklearn.linear_model import (\n",
    "    LogisticRegression, \n",
    "    LinearRegression,\n",
    "    LogisticRegressionCV)\n",
    "from sklearn.pipeline import make_pipeline\n",
    "from IPython.display import display\n",
    "pd.options.display.max_columns = None"
   ]
  },
  {
   "cell_type": "markdown",
   "metadata": {
    "id": "h-VMCjSnJkV2"
   },
   "source": [
    "# Predictive Modelling\n",
    "\n",
    "## Exercise 1: Face Recognition (but not as evil this time)\n",
    "\n",
    "Using the faces dataset in:\n",
    "\n",
    "```\n",
    "from sklearn.datasets import fetch_lfw_people\n",
    "faces = fetch_lfw_people(min_faces_per_person=60)\n",
    "```\n",
    "\n",
    "If you use the `faces.target` and `faces.target_names` attributes, you can build a facial recognition algorithm.\n",
    "\n",
    "Use sklearn **gridsearch** (or an equivalent, like random search) to optimize the model for accuracy. Try both a SVM-based classifier and a logistic regression based classifier (with a feature pipeline of your choice) to get the best model. You should have at least 75-80% accuracy."
   ]
  },
  {
   "cell_type": "code",
   "execution_count": 5,
   "metadata": {
    "colab": {
     "base_uri": "https://localhost:8080/"
    },
    "executionInfo": {
     "elapsed": 27490,
     "status": "ok",
     "timestamp": 1616253978920,
     "user": {
      "displayName": "jasleen Kaur",
      "photoUrl": "https://lh3.googleusercontent.com/a-/AOh14GitSy-VVABi645nqScpV23oW5NBCAa7lTQqdIKl=s64",
      "userId": "12125715966921775581"
     },
     "user_tz": 240
    },
    "id": "kSyjUgdQJkV-",
    "outputId": "ce594da2-bf3a-4c3d-f1fb-568d9b424d2b"
   },
   "outputs": [],
   "source": [
    "# exercise 1\n",
    "from sklearn.datasets import fetch_lfw_people\n",
    "faces = fetch_lfw_people(min_faces_per_person=60)\n",
    "faces_c = fetch_lfw_people(min_faces_per_person=60, color=True)"
   ]
  },
  {
   "cell_type": "code",
   "execution_count": 3,
   "metadata": {},
   "outputs": [
    {
     "data": {
      "text/plain": [
       "dict_keys(['data', 'images', 'target', 'target_names', 'DESCR'])"
      ]
     },
     "execution_count": 3,
     "metadata": {},
     "output_type": "execute_result"
    }
   ],
   "source": [
    "faces.keys()"
   ]
  },
  {
   "cell_type": "code",
   "execution_count": 4,
   "metadata": {},
   "outputs": [
    {
     "data": {
      "text/html": [
       "<div>\n",
       "<style scoped>\n",
       "    .dataframe tbody tr th:only-of-type {\n",
       "        vertical-align: middle;\n",
       "    }\n",
       "\n",
       "    .dataframe tbody tr th {\n",
       "        vertical-align: top;\n",
       "    }\n",
       "\n",
       "    .dataframe thead th {\n",
       "        text-align: right;\n",
       "    }\n",
       "</style>\n",
       "<table border=\"1\" class=\"dataframe\">\n",
       "  <thead>\n",
       "    <tr style=\"text-align: right;\">\n",
       "      <th></th>\n",
       "      <th>target</th>\n",
       "      <th>n_samples</th>\n",
       "      <th>%</th>\n",
       "    </tr>\n",
       "  </thead>\n",
       "  <tbody>\n",
       "    <tr>\n",
       "      <th>Ariel Sharon</th>\n",
       "      <td>0</td>\n",
       "      <td>77</td>\n",
       "      <td>5.7</td>\n",
       "    </tr>\n",
       "    <tr>\n",
       "      <th>Colin Powell</th>\n",
       "      <td>1</td>\n",
       "      <td>236</td>\n",
       "      <td>17.5</td>\n",
       "    </tr>\n",
       "    <tr>\n",
       "      <th>Donald Rumsfeld</th>\n",
       "      <td>2</td>\n",
       "      <td>121</td>\n",
       "      <td>9.0</td>\n",
       "    </tr>\n",
       "    <tr>\n",
       "      <th>George W Bush</th>\n",
       "      <td>3</td>\n",
       "      <td>530</td>\n",
       "      <td>39.3</td>\n",
       "    </tr>\n",
       "    <tr>\n",
       "      <th>Gerhard Schroeder</th>\n",
       "      <td>4</td>\n",
       "      <td>109</td>\n",
       "      <td>8.1</td>\n",
       "    </tr>\n",
       "    <tr>\n",
       "      <th>Hugo Chavez</th>\n",
       "      <td>5</td>\n",
       "      <td>71</td>\n",
       "      <td>5.3</td>\n",
       "    </tr>\n",
       "    <tr>\n",
       "      <th>Junichiro Koizumi</th>\n",
       "      <td>6</td>\n",
       "      <td>60</td>\n",
       "      <td>4.5</td>\n",
       "    </tr>\n",
       "    <tr>\n",
       "      <th>Tony Blair</th>\n",
       "      <td>7</td>\n",
       "      <td>144</td>\n",
       "      <td>10.7</td>\n",
       "    </tr>\n",
       "  </tbody>\n",
       "</table>\n",
       "</div>"
      ],
      "text/plain": [
       "                   target  n_samples     %\n",
       "Ariel Sharon            0         77   5.7\n",
       "Colin Powell            1        236  17.5\n",
       "Donald Rumsfeld         2        121   9.0\n",
       "George W Bush           3        530  39.3\n",
       "Gerhard Schroeder       4        109   8.1\n",
       "Hugo Chavez             5         71   5.3\n",
       "Junichiro Koizumi       6         60   4.5\n",
       "Tony Blair              7        144  10.7"
      ]
     },
     "execution_count": 4,
     "metadata": {},
     "output_type": "execute_result"
    }
   ],
   "source": [
    "# the number of samples for each face are quite imbalanced with target 6 only having 60 samples\n",
    "# if the data were more imbalanced it might be good to try oversampling to correct it but I decided not to do that here\n",
    "info = pd.DataFrame(np.unique(faces.target, return_counts=True), index=['target', 'n_samples'], columns=faces.target_names).T\n",
    "info['%'] = (info.n_samples/np.unique(faces.target, return_counts=True)[1].sum()*100).round(1)\n",
    "info"
   ]
  },
  {
   "cell_type": "code",
   "execution_count": 5,
   "metadata": {},
   "outputs": [],
   "source": [
    "X = faces.data\n",
    "y = faces.target\n",
    "\n",
    "# stratify on y to ensure the percentages of each target are matched in the test set\n",
    "X_train, X_test, y_train, y_test = train_test_split(X, y, stratify=y, random_state=10)"
   ]
  },
  {
   "cell_type": "markdown",
   "metadata": {},
   "source": [
    "#### Logistic Regression Model\n",
    "- Initially tested a pipeline with scaling and dimentionality reduction, but these models had very poor results.\n",
    "- Tried different solvers but the huge increase in time made anything but lbfgs and liblinear too long to perform grid search on. The liblinear solver also is not compatible with multinomial multi class and 'none' penalty so was tested but excluded from final code to save time since the lbfgs solver was found to be best anyway. "
   ]
  },
  {
   "cell_type": "code",
   "execution_count": 6,
   "metadata": {},
   "outputs": [
    {
     "name": "stdout",
     "output_type": "stream",
     "text": [
      "Fitting 2 folds for each of 24 candidates, totalling 48 fits\n"
     ]
    }
   ],
   "source": [
    "# parameters to test in grid search\n",
    "params = {'penalty': ['l2', 'none'],\n",
    "          'C': [1e-6, 1e-5, 1e-4],\n",
    "          'multi_class': ['multinomial', 'ovr'],\n",
    "          'class_weight': ['balanced', None]}\n",
    "\n",
    "classifier =  LogisticRegression(random_state=10, max_iter=2000)\n",
    "\n",
    "grid = GridSearchCV(classifier, params, cv=2, n_jobs=-1, verbose=2).fit(X_train, y_train)"
   ]
  },
  {
   "cell_type": "code",
   "execution_count": 7,
   "metadata": {
    "scrolled": true
   },
   "outputs": [
    {
     "name": "stdout",
     "output_type": "stream",
     "text": [
      "{'C': 1e-05, 'class_weight': 'balanced', 'multi_class': 'ovr', 'penalty': 'l2'}\n"
     ]
    }
   ],
   "source": [
    "print(grid.best_params_)"
   ]
  },
  {
   "cell_type": "code",
   "execution_count": 8,
   "metadata": {},
   "outputs": [],
   "source": [
    "y_pred_lr = grid.predict(X_test)"
   ]
  },
  {
   "cell_type": "code",
   "execution_count": 9,
   "metadata": {
    "scrolled": false
   },
   "outputs": [
    {
     "name": "stdout",
     "output_type": "stream",
     "text": [
      "\n",
      "Classification report\n",
      "-------------------\n",
      "              precision    recall  f1-score   support\n",
      "\n",
      "           0       0.85      0.89      0.87        19\n",
      "           1       0.85      0.90      0.88        59\n",
      "           2       0.88      0.77      0.82        30\n",
      "           3       0.90      0.92      0.91       133\n",
      "           4       0.79      0.96      0.87        27\n",
      "           5       0.93      0.72      0.81        18\n",
      "           6       0.93      0.87      0.90        15\n",
      "           7       0.90      0.78      0.84        36\n",
      "\n",
      "    accuracy                           0.88       337\n",
      "   macro avg       0.88      0.85      0.86       337\n",
      "weighted avg       0.88      0.88      0.88       337\n",
      "\n",
      "Jaccard Scores\n",
      "-------------------\n",
      "\t\t0: 0.77\n",
      "\t\t1: 0.78\n",
      "\t\t2: 0.70\n",
      "\t\t3: 0.84\n",
      "\t\t4: 0.76\n",
      "\t\t5: 0.68\n",
      "\t\t6: 0.81\n",
      "\t\t7: 0.72\n",
      "Weighted Average : 0.78\n"
     ]
    },
    {
     "data": {
      "image/png": "[encoded data removed]",
      "text/plain": [
       "<Figure size 400x400 with 1 Axes>"
      ]
     },
     "metadata": {},
     "output_type": "display_data"
    }
   ],
   "source": [
    "# metrics for logistic regression model\n",
    "print(f'\\nClassification report\\n-------------------\\n{metrics.classification_report(y_test, y_pred_lr)}')\n",
    "print(f'Jaccard Scores\\n-------------------')\n",
    "jaccard_all = metrics.jaccard_score(y_test, y_pred_lr, average=None)\n",
    "for i in range(len(jaccard_all)):\n",
    "    print(f'\\t\\t{i}: {jaccard_all[i]:.2f}')\n",
    "print(f'Weighted Average : {metrics.jaccard_score(y_test, y_pred_lr, average=\"weighted\"):.2f}')\n",
    "fig, (ax1) = plt.subplots(1, 1, figsize=(4,4))\n",
    "sns.heatmap(metrics.confusion_matrix(y_test, y_pred_lr), annot=True, fmt=\"d\", ax=ax1, cbar=False)\n",
    "ax1.set_xlabel('Predicted label')\n",
    "ax1.set_ylabel('True label')\n",
    "ax1.set_title('Confusion Matrix')\n",
    "plt.show()"
   ]
  },
  {
   "cell_type": "markdown",
   "metadata": {},
   "source": [
    "#### Interpretation\n",
    "The results of the logistic regression are acceptable with the best performer being the face with the most samples. However, even with the low sample size for face 6, the f1 score is still 0.90. The Jaccard score is a metric that essentially calculates the number of successful classifications over the number of successes plus false negative and false positives, ignoring true negatives in the calculation. This seems very useful for determining how successful the model is at minimizing <i>all</i> misclassifications, whereas precision and recall, and by extension f1 score, are looking at true positive ratios independently. So the Jaccard score shows that target 5 was much more misclassified overall than the other targets. The weighted average Jaccard score is simply the average of the individual scores and gives the impression that the model was still reasonably successful. "
   ]
  },
  {
   "cell_type": "markdown",
   "metadata": {},
   "source": [
    "#### SVM Model\n",
    "- Surprisingly the SVM model was more difficult to get to work properly. Initial attemps had predictions of only one or two faces.\n",
    "- I tried normalizers and other scalers but PCA was the only option that gave decent results."
   ]
  },
  {
   "cell_type": "code",
   "execution_count": 10,
   "metadata": {},
   "outputs": [],
   "source": [
    "scaler = PCA()\n",
    "X_scaled = scaler.fit_transform(X_train)\n",
    "X_test_scaled = scaler.transform(X_test)"
   ]
  },
  {
   "cell_type": "code",
   "execution_count": 11,
   "metadata": {
    "scrolled": true
   },
   "outputs": [
    {
     "name": "stdout",
     "output_type": "stream",
     "text": [
      "Fitting 2 folds for each of 576 candidates, totalling 1152 fits\n"
     ]
    }
   ],
   "source": [
    "# parameters for SVM model\n",
    "pipeline = Pipeline([\n",
    "    ('pca', PCA(random_state=10)),\n",
    "    ('clf', SVC(random_state=10))\n",
    "])\n",
    "\n",
    "params = {'pca__n_components': [None, 500, 150],\n",
    "          'pca__whiten': [True, False],\n",
    "          'clf__gamma': ['scale', 'auto', 1e-8],\n",
    "          'clf__kernel': ['rbf', 'linear'],\n",
    "          'clf__C': [100, 10, 1, 0.1],\n",
    "          'clf__class_weight': ['balanced', None],\n",
    "          'clf__break_ties': [False, True]\n",
    "         }\n",
    "\n",
    "grid_svm = GridSearchCV(pipeline, params, cv=2, n_jobs=-1, verbose=2).fit(X_train, y_train)"
   ]
  },
  {
   "cell_type": "code",
   "execution_count": 12,
   "metadata": {
    "scrolled": false
   },
   "outputs": [
    {
     "name": "stdout",
     "output_type": "stream",
     "text": [
      "{'clf__C': 100, 'clf__break_ties': True, 'clf__class_weight': 'balanced', 'clf__gamma': 1e-08, 'clf__kernel': 'rbf', 'pca__n_components': None, 'pca__whiten': False}\n"
     ]
    }
   ],
   "source": [
    "print(grid_svm.best_params_)"
   ]
  },
  {
   "cell_type": "code",
   "execution_count": 13,
   "metadata": {
    "scrolled": true
   },
   "outputs": [],
   "source": [
    "y_pred_svm = grid_svm.predict(X_test)"
   ]
  },
  {
   "cell_type": "code",
   "execution_count": 14,
   "metadata": {
    "scrolled": false
   },
   "outputs": [
    {
     "name": "stdout",
     "output_type": "stream",
     "text": [
      "\n",
      "Classification report\n",
      "-------------------\n",
      "              precision    recall  f1-score   support\n",
      "\n",
      "           0       0.80      0.84      0.82        19\n",
      "           1       0.79      0.90      0.84        59\n",
      "           2       0.89      0.80      0.84        30\n",
      "           3       0.92      0.89      0.91       133\n",
      "           4       0.81      0.81      0.81        27\n",
      "           5       0.73      0.61      0.67        18\n",
      "           6       1.00      0.93      0.97        15\n",
      "           7       0.79      0.83      0.81        36\n",
      "\n",
      "    accuracy                           0.86       337\n",
      "   macro avg       0.84      0.83      0.83       337\n",
      "weighted avg       0.86      0.86      0.86       337\n",
      "\n",
      "Jaccard Scores\n",
      "-------------------\n",
      "\t\t0: 0.70\n",
      "\t\t1: 0.73\n",
      "\t\t2: 0.73\n",
      "\t\t3: 0.83\n",
      "\t\t4: 0.69\n",
      "\t\t5: 0.50\n",
      "\t\t6: 0.93\n",
      "\t\t7: 0.68\n",
      "Weighted Average : 0.76\n"
     ]
    },
    {
     "data": {
      "image/png": "[encoded data removed]",
      "text/plain": [
       "<Figure size 400x400 with 1 Axes>"
      ]
     },
     "metadata": {},
     "output_type": "display_data"
    }
   ],
   "source": [
    "# metrics for SVM model\n",
    "print(f'\\nClassification report\\n-------------------\\n{metrics.classification_report(y_test, y_pred_svm)}')\n",
    "print(f'Jaccard Scores\\n-------------------')\n",
    "jaccard_all = metrics.jaccard_score(y_test, y_pred_svm, average=None)\n",
    "for i in range(len(jaccard_all)):\n",
    "    print(f'\\t\\t{i}: {jaccard_all[i]:.2f}')\n",
    "print(f'Weighted Average : {metrics.jaccard_score(y_test, y_pred_svm, average=\"weighted\"):.2f}')\n",
    "fig, (ax1) = plt.subplots(1, 1, figsize=(4,4))\n",
    "sns.heatmap(metrics.confusion_matrix(y_test, y_pred_svm), annot=True, fmt=\"d\", ax=ax1, cbar=False)\n",
    "ax1.set_xlabel('Predicted label')\n",
    "ax1.set_ylabel('True label')\n",
    "ax1.set_title('Confusion Matrix')\n",
    "plt.show()"
   ]
  },
  {
   "cell_type": "markdown",
   "metadata": {},
   "source": [
    "#### Interpretation\n",
    "SVC had slightly worse overall classification than logistic regression. Similar to LR, face 5 had the worst results but SVC did much better on face 6, only misclassifying 1 image. This was the only improvement, however. All other targets had worse results. I'm a bit confused why this model didn't perform as well, especially since some sources said an SVM should be better for image classification. The other consideration is that the number of features is larger than the number of training examples so sources say to use logistic regression in these cases. "
   ]
  }
 ],
 "metadata": {
  "anaconda-cloud": {},
  "colab": {
   "name": "Workshop.ipynb",
   "provenance": []
  },
  "kernelspec": {
   "display_name": "Python 3 (ipykernel)",
   "language": "python",
   "name": "python3"
  },
  "language_info": {
   "codemirror_mode": {
    "name": "ipython",
    "version": 3
   },
   "file_extension": ".py",
   "mimetype": "text/x-python",
   "name": "python",
   "nbconvert_exporter": "python",
   "pygments_lexer": "ipython3",
   "version": "3.10.9"
  }
 },
 "nbformat": 4,
 "nbformat_minor": 1
}
