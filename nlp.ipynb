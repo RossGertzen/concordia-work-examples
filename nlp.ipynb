{
 "cells": [
  {
   "cell_type": "code",
   "execution_count": 1,
   "metadata": {},
   "outputs": [],
   "source": [
    "import re\n",
    "import json\n",
    "import requests\n",
    "import spacy\n",
    "import numpy as np\n",
    "import pandas as pd\n",
    "import seaborn as sns\n",
    "import matplotlib.pyplot as plt\n",
    "from bs4 import BeautifulSoup as bs\n",
    "from scipy import stats\n",
    "from sklearn import metrics\n",
    "from sklearn.model_selection import train_test_split, GridSearchCV\n",
    "from sklearn.preprocessing import (\n",
    "    OneHotEncoder, \n",
    "    OrdinalEncoder, \n",
    "    StandardScaler,\n",
    "    RobustScaler,\n",
    "    Normalizer)\n",
    "from sklearn.neural_network import MLPClassifier\n",
    "from sklearn.decomposition import PCA, TruncatedSVD\n",
    "from sklearn.compose import ColumnTransformer\n",
    "from sklearn.svm import SVC, SVR\n",
    "from sklearn.pipeline import make_pipeline\n",
    "from sklearn.ensemble import RandomForestClassifier\n",
    "from sklearn.linear_model import (\n",
    "    LinearRegression,\n",
    "    LogisticRegression, \n",
    "    LogisticRegressionCV, \n",
    "    PoissonRegressor, \n",
    "    TweedieRegressor,\n",
    "    PassiveAggressiveClassifier,\n",
    "    RidgeClassifierCV)\n",
    "from sklearn.feature_extraction.text import TfidfVectorizer,CountVectorizer,TfidfTransformer\n",
    "from sklearn.pipeline import make_pipeline\n",
    "from IPython.display import display\n",
    "pd.options.display.max_columns = None\n",
    "import warnings\n",
    "warnings.simplefilter('ignore')"
   ]
  },
  {
   "cell_type": "markdown",
   "metadata": {},
   "source": [
    "# **WARNING** \n",
    "\n",
    "### We are dealing with raw web data. Some of the information that is retrieved might contain certain explicit content (words, phrases, or references)"
   ]
  },
  {
   "cell_type": "markdown",
   "metadata": {},
   "source": [
    "# Data Engineering - NLP"
   ]
  },
  {
   "cell_type": "markdown",
   "metadata": {},
   "source": [
    "## Exercise 1: NLP Tweets\n",
    "\n",
    "For this exercise, use TfidfVectorizer and any TWO classification models you would like to correctly identify the sentiments of each review, in the Restaurant_Reviews.tsv file, as (Positive, or Negative). \n",
    "\n",
    "### Remember:\n",
    "    1. Split your data into Train and Test sets\n",
    "    2. Evaluate your model using the metrics of your choice (include a brief interpretation)\n",
    "    3. Explain which model performed better and why (comparison of results)"
   ]
  },
  {
   "cell_type": "code",
   "execution_count": 2,
   "metadata": {
    "scrolled": true
   },
   "outputs": [],
   "source": [
    "#Exercise 1\n",
    "df = pd.read_csv('../data/Restaurant_Reviews.tsv', sep='\\t')\n",
    "\n",
    "X_train, X_test, y_train, y_test = train_test_split(df['Review'], df['Liked'], test_size=0.2, random_state=10)"
   ]
  },
  {
   "cell_type": "code",
   "execution_count": 3,
   "metadata": {},
   "outputs": [],
   "source": [
    "# using the tfidf vectorizer for vectorizing and transforming\n",
    "tf = TfidfVectorizer()\n",
    "\n",
    "X_train = tf.fit_transform(X_train)\n",
    "X_test = tf.transform(X_test)\n"
   ]
  },
  {
   "cell_type": "code",
   "execution_count": 4,
   "metadata": {
    "scrolled": false
   },
   "outputs": [
    {
     "name": "stdout",
     "output_type": "stream",
     "text": [
      "\n",
      "Classification report\n",
      "-------------------\n",
      "              precision    recall  f1-score   support\n",
      "\n",
      "           0       0.81      0.81      0.81       100\n",
      "           1       0.81      0.81      0.81       100\n",
      "\n",
      "    accuracy                           0.81       200\n",
      "   macro avg       0.81      0.81      0.81       200\n",
      "weighted avg       0.81      0.81      0.81       200\n",
      "\n",
      "-------------------\n",
      "Log Loss Mean: 0.52\n",
      "Log Loss Total: 104.35\n",
      "-------------------\n"
     ]
    },
    {
     "data": {
      "image/png": "[encoded data removed]",
      "text/plain": [
       "<Figure size 400x300 with 1 Axes>"
      ]
     },
     "metadata": {},
     "output_type": "display_data"
    }
   ],
   "source": [
    "# perform basic logistic regression, fit, and predict\n",
    "logit = LogisticRegression()\n",
    "logit.fit(X_train,y_train)           \n",
    "y_pred = logit.predict(X_test)\n",
    "\n",
    "# evaluation metrics\n",
    "print(f'\\nClassification report\\n-------------------\\n'\n",
    "      f'{metrics.classification_report(y_test, y_pred)}\\n'\n",
    "      f'-------------------')\n",
    "\n",
    "print(f'Log Loss Mean: {metrics.log_loss(y_test, logit.predict_proba(X_test)):.2f}')\n",
    "print(f'Log Loss Total: {metrics.log_loss(y_test, logit.predict_proba(X_test), normalize=False):.2f}\\n-------------------')\n",
    "\n",
    "fig, (ax1) = plt.subplots(1, 1, figsize=(4,3))\n",
    "metrics.RocCurveDisplay.from_predictions(y_test, logit.decision_function(X_test), ax=ax1)\n",
    "plt.show()\n"
   ]
  },
  {
   "cell_type": "markdown",
   "metadata": {},
   "source": [
    "### Interpretation\n",
    "\n",
    "The basic logistic regression has classified with 81% in everything which is interesting. So 81% of the reviews were classified correctly. Since this is a balanced and binary classification, I used the log loss as another metric which shows that the mean log loss is not that much below 0.69, the non-informative value, so could probably be further optimized. I also wanted to look at the AUC, which is 0.87, in order to compare models."
   ]
  },
  {
   "cell_type": "code",
   "execution_count": 5,
   "metadata": {
    "scrolled": false
   },
   "outputs": [
    {
     "name": "stdout",
     "output_type": "stream",
     "text": [
      "\n",
      "Classification report\n",
      "-------------------\n",
      "              precision    recall  f1-score   support\n",
      "\n",
      "           0       0.83      0.85      0.84       100\n",
      "           1       0.85      0.83      0.84       100\n",
      "\n",
      "    accuracy                           0.84       200\n",
      "   macro avg       0.84      0.84      0.84       200\n",
      "weighted avg       0.84      0.84      0.84       200\n",
      "\n",
      "-------------------\n",
      "Log Loss Mean: 0.43\n",
      "Log Loss Total: 86.61\n",
      "-------------------\n"
     ]
    },
    {
     "data": {
      "image/png": "[encoded data removed]",
      "text/plain": [
       "<Figure size 400x300 with 1 Axes>"
      ]
     },
     "metadata": {},
     "output_type": "display_data"
    }
   ],
   "source": [
    "# perform SVM, fit, and predict\n",
    "svc = SVC(C=2, probability=True, random_state=10)\n",
    "svc.fit(X_train,y_train)           \n",
    "y_pred = svc.predict(X_test)\n",
    "\n",
    "# evaluation metrics\n",
    "print(f'\\nClassification report\\n-------------------\\n'\n",
    "      f'{metrics.classification_report(y_test, y_pred)}\\n'\n",
    "      f'-------------------')\n",
    "\n",
    "print(f'Log Loss Mean: {metrics.log_loss(y_test, svc.predict_proba(X_test)):.2f}')\n",
    "print(f'Log Loss Total: {metrics.log_loss(y_test, svc.predict_proba(X_test), normalize=False):.2f}\\n-------------------')\n",
    "\n",
    "fig, (ax1) = plt.subplots(1, 1, figsize=(4,3))\n",
    "metrics.RocCurveDisplay.from_predictions(y_test, svc.decision_function(X_test), ax=ax1)\n",
    "plt.show()\n"
   ]
  },
  {
   "cell_type": "markdown",
   "metadata": {},
   "source": [
    "### Interpretation and Comparison\n",
    "\n",
    "Metrics are slighly better here but are still not great. I decided to compare between vanilla logistic regression and a support vector machine model. There is an improvement in model performance with the SVM but it might still be possible to optimize further with a hyperparameter search. I tried other models, such as random forest, multinomial naive bayes, and a grid search of parameters with logitstic regression but the SVM performed best. I am thinking that all the metrics performed better for SVM because SVM was able to find a hyperspace that allowed for greater separation of positive and negative reviews. The AUC is only slightly higher here but still indicates that this is a better model. F1 and accuracy are 83% for everything which is two points higher than the logistic model, meaning this SVM correctly classifies 2% more data. The log loss for SVM is a bit lower as well, showing that the error in choosing a classification is better here."
   ]
  },
  {
   "cell_type": "markdown",
   "metadata": {
    "id": "tyh2HYbxr6Fm"
   },
   "source": [
    "\n",
    "## Exercise 2: App Review NLP work (Similar to Web Data workshop)\n",
    "\n",
    "The Apple app store has a `GET` API to get reviews on apps. The URL is:\n",
    "\n",
    "```\n",
    "https://itunes.apple.com/{COUNTRY_CODE}/rss/customerreviews/id={APP_ID_HERE}/page={PAGE_NUMBER}/sortby=mostrecent/json\n",
    "```\n",
    "\n",
    "Note that you need to provide:\n",
    "\n",
    "- The country codes (`'us'`, `'gb'`, `'ca'`, `'au'`) - use all four\n",
    "- The app ID. This can be found in the web page for the app right after `id`.\n",
    "    - You will need to find the IDs for these apps - Candy Crush, Facebook, Twitter & Tinder\n",
    "- The \"Page Number\". The request responds with multiple pages of data, but sends them one at a time. So you can cycle through the data pages for any app on any country. (Be careful, there are limits to the number of pages you can access)\n",
    "\n",
    "For example, Candy Crush's US webpage is `https://apps.apple.com/us/app/candy-crush-saga/id553834731`, which means that the ID is `553834731`.\n",
    "\n",
    "\n",
    "Do the following:\n",
    "\n",
    "1. Using any method you want (pre-trained models, dimensionality reduction, feature engineering, etc.) make the best **regression** model you can to predict the 5 star rating. Rate the accuracy in regression terms (mean squared error) and in classification terms (accuracy score, etc.)\n",
    "1. Do the same as 1.1, but use a classification model. Are classification models better or worse to predict a 5-point rating scale? Explain in a few paragraphs and justify with metrics.\n",
    "\n",
    "ps. Feel free to do as much data engineering to boost your model. (ie binary vs multinomial)\n"
   ]
  },
  {
   "cell_type": "code",
   "execution_count": 6,
   "metadata": {
    "colab": {
     "base_uri": "https://localhost:8080/",
     "height": 419
    },
    "executionInfo": {
     "elapsed": 17760,
     "status": "ok",
     "timestamp": 1614650956868,
     "user": {
      "displayName": "jasleen Kaur",
      "photoUrl": "https://lh3.googleusercontent.com/a-/AOh14GitSy-VVABi645nqScpV23oW5NBCAa7lTQqdIKl=s64",
      "userId": "12125715966921775581"
     },
     "user_tz": 300
    },
    "id": "2MormF0Pr6Fu",
    "outputId": "f137b212-85e7-41b9-f5e6-6cbb7c35b29c"
   },
   "outputs": [],
   "source": [
    "# exercise 2\n",
    "\n",
    "COUNTRY_CODE = ['us', 'gb', 'ca', 'au']\n",
    "APP_IDS = {'Candy Crush': '553834731', 'Facebook': '284882215', 'Twitter': '333903271', 'Tinder': '547702041'}\n",
    "\n",
    "# list to store page data\n",
    "json_list = []\n",
    "\n",
    "# loop over pages to build a list of dictionaries\n",
    "for CODE in COUNTRY_CODE:\n",
    "    for APP, ID in APP_IDS.items():\n",
    "        for PAGE_NUMBER in range(1, 11):\n",
    "            r = requests.get(f'https://itunes.apple.com/{CODE}/rss/customerreviews/id={ID}/page={PAGE_NUMBER}/sortby=mostrecent/json')\n",
    "            feed = r.json()['feed']\n",
    "            feed.update({'app': APP})\n",
    "            json_list.append(feed)\n",
    "            "
   ]
  },
  {
   "cell_type": "code",
   "execution_count": 7,
   "metadata": {
    "scrolled": true
   },
   "outputs": [
    {
     "data": {
      "text/html": [
       "<div>\n",
       "<style scoped>\n",
       "    .dataframe tbody tr th:only-of-type {\n",
       "        vertical-align: middle;\n",
       "    }\n",
       "\n",
       "    .dataframe tbody tr th {\n",
       "        vertical-align: top;\n",
       "    }\n",
       "\n",
       "    .dataframe thead th {\n",
       "        text-align: right;\n",
       "    }\n",
       "</style>\n",
       "<table border=\"1\" class=\"dataframe\">\n",
       "  <thead>\n",
       "    <tr style=\"text-align: right;\">\n",
       "      <th></th>\n",
       "      <th>app</th>\n",
       "      <th>version</th>\n",
       "      <th>title</th>\n",
       "      <th>review</th>\n",
       "      <th>rating</th>\n",
       "    </tr>\n",
       "  </thead>\n",
       "  <tbody>\n",
       "    <tr>\n",
       "      <th>6548</th>\n",
       "      <td>Facebook</td>\n",
       "      <td>403.1</td>\n",
       "      <td>Everything is bad</td>\n",
       "      <td>Facebook prioritises sponsored content, so you...</td>\n",
       "      <td>1</td>\n",
       "    </tr>\n",
       "    <tr>\n",
       "      <th>1941</th>\n",
       "      <td>Tinder</td>\n",
       "      <td>14.2.0</td>\n",
       "      <td>Too many bots</td>\n",
       "      <td>Too many bots</td>\n",
       "      <td>1</td>\n",
       "    </tr>\n",
       "    <tr>\n",
       "      <th>5371</th>\n",
       "      <td>Twitter</td>\n",
       "      <td>9.40</td>\n",
       "      <td>past few months</td>\n",
       "      <td>Twitter has always been great, and has had som...</td>\n",
       "      <td>1</td>\n",
       "    </tr>\n",
       "    <tr>\n",
       "      <th>2510</th>\n",
       "      <td>Facebook</td>\n",
       "      <td>405.1</td>\n",
       "      <td>lag scrolling</td>\n",
       "      <td>Facebook is the only app on my phone thats con...</td>\n",
       "      <td>1</td>\n",
       "    </tr>\n",
       "    <tr>\n",
       "      <th>1613</th>\n",
       "      <td>Tinder</td>\n",
       "      <td>14.3.0</td>\n",
       "      <td>It dosent work</td>\n",
       "      <td>The amount of time I spent on this app and hav...</td>\n",
       "      <td>1</td>\n",
       "    </tr>\n",
       "  </tbody>\n",
       "</table>\n",
       "</div>"
      ],
      "text/plain": [
       "           app version              title  \\\n",
       "6548  Facebook   403.1  Everything is bad   \n",
       "1941    Tinder  14.2.0      Too many bots   \n",
       "5371   Twitter    9.40    past few months   \n",
       "2510  Facebook   405.1      lag scrolling   \n",
       "1613    Tinder  14.3.0     It dosent work   \n",
       "\n",
       "                                                 review  rating  \n",
       "6548  Facebook prioritises sponsored content, so you...       1  \n",
       "1941                                      Too many bots       1  \n",
       "5371  Twitter has always been great, and has had som...       1  \n",
       "2510  Facebook is the only app on my phone thats con...       1  \n",
       "1613  The amount of time I spent on this app and hav...       1  "
      ]
     },
     "execution_count": 7,
     "metadata": {},
     "output_type": "execute_result"
    }
   ],
   "source": [
    "# create a table that has a column for each section of the dictionary-like json\n",
    "df = pd.DataFrame(json_list).explode('entry')\n",
    "# turn the table of dictionaries into a dataframe with individual values for each row/column\n",
    "df = pd.json_normalize(json.loads(df.to_json(orient='records')))\n",
    "# keep only the relevant columns\n",
    "df = df[['app', 'entry.im:version.label', 'entry.title.label', 'entry.content.label', 'entry.im:rating.label']]\n",
    "# rename columns for ease\n",
    "df = df.rename(columns = {'entry.im:version.label': 'version', \n",
    "           'entry.title.label': 'title', \n",
    "           'entry.content.label': 'review', \n",
    "           'entry.im:rating.label': 'rating'\n",
    "           })\n",
    "# one bad sample to drop\n",
    "df.dropna(inplace=True)\n",
    "# rating as int\n",
    "df = df.astype({'rating': 'int32'})\n",
    "\n",
    "df.sample(5)"
   ]
  },
  {
   "cell_type": "code",
   "execution_count": 8,
   "metadata": {
    "scrolled": true
   },
   "outputs": [
    {
     "data": {
      "text/plain": [
       "'Satisfying fun Its pretty easy the vibrations are so satisfying on each level It might be hard but once you get used to it its SUPERRRRRR FUNNN Def recommended for 8yr olds up'"
      ]
     },
     "execution_count": 8,
     "metadata": {},
     "output_type": "execute_result"
    }
   ],
   "source": [
    "# concatenate the title and review for use in nlp and clean up the strings to remove emoji and odd characters\n",
    "# this version keeps non-english characters since they somehow improved the performance of the model\n",
    "df['combined_text'] = df.title + ' ' + df.review\n",
    "df['combined_text'] = df['combined_text'].str.replace(r'[^ \\w+]', '', regex=True)\n",
    "df['combined_text'] = df['combined_text'].str.strip().str.replace('\\n', '').str.replace('\\s+', ' ', regex=True)\n",
    "df['combined_text'][0]"
   ]
  },
  {
   "cell_type": "code",
   "execution_count": 9,
   "metadata": {},
   "outputs": [],
   "source": [
    "# make the training and testing sets\n",
    "# using only the combined text was giving the best results after trying to use app and version as categorical\n",
    "X = df['combined_text']\n",
    "y = df['rating']\n",
    "\n",
    "X_train, X_test, y_train, y_test = train_test_split(X, y, test_size=0.2, random_state=10)"
   ]
  },
  {
   "cell_type": "code",
   "execution_count": 10,
   "metadata": {
    "scrolled": true
   },
   "outputs": [],
   "source": [
    "# load spacy and make a tokenizer for TfidfVectorizer (found on SO, not sure it's doing what I think it is)\n",
    "nlp = spacy.load(\"en_core_web_sm\")\n",
    "\n",
    "class LemmaTokenizer(object):\n",
    "    def __call__(self, doc):\n",
    "        nlpdoc = nlp(doc)\n",
    "        nlpdoc = [token.lemma_ for token in nlpdoc if (len(token.lemma_) > 1) or (token.lemma_.isalnum()) ]\n",
    "        return nlpdoc"
   ]
  },
  {
   "cell_type": "code",
   "execution_count": 11,
   "metadata": {},
   "outputs": [],
   "source": [
    "# create a tfidf pipeline to vectorize and reduce dimensions\n",
    "tfidf = make_pipeline(TfidfVectorizer(stop_words='english', strip_accents='unicode', tokenizer=LemmaTokenizer()),\n",
    "                        TruncatedSVD(n_components=2000, n_iter=7, random_state=10))"
   ]
  },
  {
   "cell_type": "code",
   "execution_count": 12,
   "metadata": {
    "scrolled": true
   },
   "outputs": [],
   "source": [
    "# use the tfidf pipeline to fit and transform on the train data and just transform the test data\n",
    "X_transformed = tfidf.fit_transform(X_train)\n",
    "\n",
    "X_test_transformed = tfidf.transform(X_test)"
   ]
  },
  {
   "cell_type": "code",
   "execution_count": 53,
   "metadata": {
    "scrolled": false
   },
   "outputs": [
    {
     "name": "stdout",
     "output_type": "stream",
     "text": [
      "MSE: 1.621\n",
      "---------------\n",
      "Classification Report\n",
      "              precision    recall  f1-score   support\n",
      "\n",
      "           1       0.92      0.15      0.25       995\n",
      "           2       0.11      0.68      0.19       145\n",
      "           3       0.11      0.36      0.17       116\n",
      "           4       0.05      0.12      0.07        57\n",
      "           5       0.90      0.12      0.21       287\n",
      "\n",
      "    accuracy                           0.20      1600\n",
      "   macro avg       0.42      0.29      0.18      1600\n",
      "weighted avg       0.75      0.20      0.23      1600\n",
      "\n"
     ]
    }
   ],
   "source": [
    "# simple linear regression that is collapsed into the 5 star classification\n",
    "reg_model = LinearRegression()\n",
    "\n",
    "X_fit = reg_model.fit(X_transformed, y_train)\n",
    "\n",
    "y_pred = reg_model.predict(X_test_transformed)\n",
    "\n",
    "y_pred_ = pd.cut(pd.DataFrame(y_pred)[0], bins=np.linspace(y_pred.min(), y_pred.max(), 6), labels=[1,2,3,4,5],\n",
    "                 include_lowest=True).to_numpy().astype(int)\n",
    "\n",
    "print(f'MSE: {metrics.mean_squared_error(y_test, y_pred_):.3f}\\n---------------')\n",
    "print(f'Classification Report\\n{metrics.classification_report(y_test, y_pred_)}')\n"
   ]
  },
  {
   "cell_type": "markdown",
   "metadata": {},
   "source": [
    "<font color='red'>Accuracy is not good at all. The MSE is better than the logistic regression, but only for this run, it was worse before. The results are quite variable depending on what data comes in from the web scraping. Compressing the linear data into the classification of 1-5 may not be the right way to get metrics but I am not sure how else to do it. </font>"
   ]
  },
  {
   "cell_type": "code",
   "execution_count": 54,
   "metadata": {},
   "outputs": [
    {
     "name": "stdout",
     "output_type": "stream",
     "text": [
      "MSE: 1.705\n",
      "---------------\n",
      "Classification Report\n",
      "              precision    recall  f1-score   support\n",
      "\n",
      "           1       0.74      0.95      0.83       995\n",
      "           2       0.17      0.05      0.08       145\n",
      "           3       0.24      0.05      0.09       116\n",
      "           4       0.12      0.02      0.03        57\n",
      "           5       0.78      0.68      0.73       287\n",
      "\n",
      "    accuracy                           0.72      1600\n",
      "   macro avg       0.41      0.35      0.35      1600\n",
      "weighted avg       0.64      0.72      0.66      1600\n",
      "\n"
     ]
    }
   ],
   "source": [
    "# the classification model will be cross validated logistic regression\n",
    "clf_model = LogisticRegressionCV(multi_class='multinomial')\n",
    "\n",
    "X_fit_c = clf_model.fit(X_transformed, y_train)\n",
    "\n",
    "y_pred_c = clf_model.predict(X_test_transformed)\n",
    "\n",
    "print(f'MSE: {metrics.mean_squared_error(y_test, y_pred_c):.3f}\\n---------------')\n",
    "print(f'Classification Report\\n{metrics.classification_report(y_test, y_pred_c)}')\n"
   ]
  },
  {
   "cell_type": "markdown",
   "metadata": {},
   "source": [
    "<font color='red'>The MSE is worse than linear regression for this run. The precision of the logistic regression model looks ok but the recall is very poor for catching true positives. Looking at it further the model is primarily predicting 1s and 5s. There is also a heavy imbalance in the number of each of the ratings which can skew the models performance. But 72% accuracy is still better than the linear regression.</font>"
   ]
  },
  {
   "cell_type": "code",
   "execution_count": 56,
   "metadata": {},
   "outputs": [
    {
     "data": {
      "image/png": "[encoded data removed]",
      "text/plain": [
       "<Figure size 800x300 with 2 Axes>"
      ]
     },
     "metadata": {},
     "output_type": "display_data"
    }
   ],
   "source": [
    "# plot confusion matrices to compare\n",
    "fig, (ax1, ax2) = plt.subplots(1,2, figsize=(8,3))\n",
    "\n",
    "sns.heatmap(metrics.confusion_matrix(y_test, y_pred_), cmap='viridis', vmax=50, annot=True, fmt=\"d\", ax=ax1, cbar=False)\n",
    "ax1.set_xlabel('Predicted label')\n",
    "ax1.set_ylabel('True label')\n",
    "ax1.set_title('Regression Confusion Matrix')\n",
    "\n",
    "sns.heatmap(metrics.confusion_matrix(y_test, y_pred_c), cmap='viridis', vmax=50, annot=True, fmt=\"d\", ax=ax2, cbar=False)\n",
    "ax2.set_xlabel('Predicted label')\n",
    "ax2.set_ylabel('True label')\n",
    "ax2.set_title('Classifier Confusion Matrix')\n",
    "\n",
    "plt.show()"
   ]
  },
  {
   "cell_type": "markdown",
   "metadata": {},
   "source": [
    "<font color='red'>The linear regression confusion matrix makes it obvious that the compression of the continuous data pushed a lot of 1s and 2s as predictions. The classifier predicted mostly 0s, but this is likely because of the skew in number of samples. I can't really say that one performed well, but I would say that it makse much more sense to use a classification model for an ordinal y. </font>"
   ]
  }
 ],
 "metadata": {
  "anaconda-cloud": {},
  "colab": {
   "collapsed_sections": [],
   "name": "workshop.ipynb",
   "provenance": []
  },
  "kernelspec": {
   "display_name": "Python 3 (ipykernel)",
   "language": "python",
   "name": "python3"
  },
  "language_info": {
   "codemirror_mode": {
    "name": "ipython",
    "version": 3
   },
   "file_extension": ".py",
   "mimetype": "text/x-python",
   "name": "python",
   "nbconvert_exporter": "python",
   "pygments_lexer": "ipython3",
   "version": "3.9.13"
  }
 },
 "nbformat": 4,
 "nbformat_minor": 4
}
